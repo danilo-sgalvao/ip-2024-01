{
  "nbformat": 4,
  "nbformat_minor": 0,
  "metadata": {
    "colab": {
      "provenance": [],
      "authorship_tag": "ABX9TyOJq5vp1nMmndY4P9XtVOzu",
      "include_colab_link": true
    },
    "kernelspec": {
      "name": "python3",
      "display_name": "Python 3"
    },
    "language_info": {
      "name": "python"
    }
  },
  "cells": [
    {
      "cell_type": "markdown",
      "metadata": {
        "id": "view-in-github",
        "colab_type": "text"
      },
      "source": [
        "<a href=\"https://colab.research.google.com/github/danilo-sgalvao/ip-2024-01/blob/main/lista_1_jacson.ipynb\" target=\"_parent\"><img src=\"https://colab.research.google.com/assets/colab-badge.svg\" alt=\"Open In Colab\"/></a>"
      ]
    },
    {
      "cell_type": "markdown",
      "source": [
        "Questão 1\n",
        "\n",
        "Leia (N1 N2 N3)\n",
        "\n",
        "x <-(N1 + N2 + N3)/3\n",
        "\n",
        "MEDIA = x\n",
        "\n",
        "se MEDIA >= 6.0\n",
        "\n",
        " Escreva (MEDIA)\n",
        " Escreva (APROVADO)\n",
        "\n",
        "senão\n",
        "\n",
        " Escreva (MEDIA)\n",
        " Escreva (REPROVADO)\n",
        "\n",
        "\n",
        "\n",
        "\n"
      ],
      "metadata": {
        "id": "HBzXhCW_JsML"
      }
    },
    {
      "cell_type": "markdown",
      "source": [
        "Questão 2\n",
        "\n",
        "Leia (numero de jogos)\n",
        "\n",
        "n<-0\n",
        "\n",
        "Enquanto (n<numero de jogos)\n",
        "\n",
        "Leia (publicoGeral, porcentagemPopular, porcentagemGeral, porcentagemArquibancada, porcentagemCadeiras)\n",
        "RendaTotal = (publicoTotal*porcentagemPopular*1) + (publicoTotal*porcentagemGeral*5) + (publicoTotal*porcentagemArquibancada*10) + (publicoTotal*porcentagemCadeiras*20)\n",
        "Escreva (rendaTotal)\n",
        "\n",
        "n<-n+1\n",
        "\n",
        "\n",
        "\n",
        "\n",
        "\n",
        "\n",
        "\n"
      ],
      "metadata": {
        "id": "IPr4Ehr5OsBB"
      }
    },
    {
      "cell_type": "markdown",
      "source": [
        "Questão 3\n",
        "\n",
        "Leia (n1,n2,n3)\n",
        "\n",
        "se n1<10, n2<10, n3<10\n",
        "\n",
        "Escreva (n1n2n3)\n",
        "\n",
        "quadrado = n1n2n3*n1n2n3\n",
        "\n",
        "Escreva (quadrado)\n",
        "\n",
        "senão\n",
        "Escreva (DIGITO INVALIDO)"
      ],
      "metadata": {
        "id": "TEqfComB60Ct"
      }
    },
    {
      "cell_type": "markdown",
      "source": [
        "Questão 4\n",
        "\n",
        "Leia (salarioMinimo)\n",
        "\n",
        "Leia (consumo)\n",
        "\n",
        "custoKwH = salarioMinimo*7/1000\n",
        "\n",
        "Escreva (Custo por KwH: R$custoKwH)\n",
        "\n",
        "Escreva (Custo do consumo: custoKwH*consumo)\n",
        "\n",
        "Escreva (Custo com desconto: custoKwH*consumo *9/10)\n",
        "\n",
        "\n",
        "\n",
        "\n",
        "\n"
      ],
      "metadata": {
        "id": "_hj6Jmc7ARC2"
      }
    },
    {
      "cell_type": "markdown",
      "source": [
        "Questão 5\n",
        "\n",
        "Leia (contaDoCliente)\n",
        "\n",
        "Leia (consumo)\n",
        "\n",
        "Leia (tipoDeConsumidor)\n",
        "\n",
        "se tipoDeConsumidor = residencial\n",
        "\n",
        "Escreva (contaDoCliente consumo*0,05+5 R)\n",
        "\n",
        "se tipoDeConsumidor = comercial\n",
        "  extra = consumo-80\n",
        "  extra>=0\n",
        "\n",
        "Escreva (contaDoCliente 500+extra*0,25 C)\n",
        "\n",
        "se tipodesConsumidor = industrial\n",
        "  extra = consumo-100\n",
        "  extra>=0\n",
        "EScreva (contaDoCliente 800+extra*0,04 I)\n",
        "\n"
      ],
      "metadata": {
        "id": "6qVUhdNfFXIb"
      }
    },
    {
      "cell_type": "markdown",
      "source": [
        "Questão 6\n",
        "\n",
        "Leia (temperaturaFahrenheit)\n",
        "\n",
        "tCelsius = (temperaturaFahrenheit-32)*5/9\n",
        "\n",
        "Escreva (temperaturaFahrenheit FAHRENHEIT EQUIVALE A tCelsius CELSIUS)"
      ],
      "metadata": {
        "id": "n3Out8yhSVC8"
      }
    },
    {
      "cell_type": "markdown",
      "source": [
        "Questão 7\n",
        "\n",
        "Leia (temperaturaFahrenheit)\n",
        "\n",
        "Leia (quantidadeDeChuva)\n",
        "\n",
        "tCelsius = (temperaturaFahrenheit-32)*5/9\n",
        "Chuvamm = quantidadeDeChuva*25,4\n",
        "\n",
        "Escreva (O VALOR EM CELSIUS = tCelsius)\n",
        "Escreva (A QUANTIDADE DE CHUVA E = Chuvamm)"
      ],
      "metadata": {
        "id": "_gDt-UVJTLc-"
      }
    },
    {
      "cell_type": "markdown",
      "source": [
        "Questão 8\n",
        "\n",
        "Leia (raio)\n",
        "\n",
        "Leia (altura)\n",
        "\n",
        "pi = 3.14159\n",
        "\n",
        "areaTotal = 2*pi²+2*pi *raio *altura\n",
        "\n",
        "Escreva (O VALOR DO CUSTO E = areaTotal*100)"
      ],
      "metadata": {
        "id": "nmk-hcf_UVUX"
      }
    },
    {
      "cell_type": "markdown",
      "source": [
        "Questão 9\n",
        "\n",
        "Leia (coefA)\n",
        "\n",
        "Leia (coefB)\n",
        "\n",
        "Leia (coefC)\n",
        "\n",
        "Delta = coefB² - 4*coefA *coefC\n",
        "\n",
        "Escreva (O VALOR DE DELTA E = Delta)\n"
      ],
      "metadata": {
        "id": "M1PT_0IqVvv8"
      }
    },
    {
      "cell_type": "markdown",
      "source": [
        "Questão 10\n",
        "\n",
        "Leia (a,b,c,d)\n",
        "\n",
        "det = a*d-b*c\n",
        "\n",
        "Escreva (O valor do determinante e = det)"
      ],
      "metadata": {
        "id": "2mRtYoHWXqM3"
      }
    },
    {
      "cell_type": "markdown",
      "source": [
        "Questão 11\n",
        "\n",
        "Leia (n)\n",
        "\n",
        "se n for divisivel por 3 e por 5\n",
        "\n",
        "Escreva (NUMERO E DIVISIVEL)\n",
        "\n",
        "senao\n",
        "\n",
        "Escreva (NUMERO NAO E DIVISIVEL)"
      ],
      "metadata": {
        "id": "E1-LJ-fVYDct"
      }
    },
    {
      "cell_type": "markdown",
      "source": [
        "Questão 12\n",
        "\n",
        "Leia (horas)\n",
        "\n",
        "r = resto da divisão\n",
        "\n",
        "valor = horas/3*10+r *5\n",
        "\n",
        "Escreva (O VALOR A PAGAR E = valor)"
      ],
      "metadata": {
        "id": "JNJgKCA_Ynw0"
      }
    },
    {
      "cell_type": "markdown",
      "source": [
        "Questão 13\n",
        "\n",
        "Leia (nota)\n",
        "\n",
        "se 0<=nota<6.0\n",
        "\n",
        "Escreva (nota D)\n",
        "\n",
        "se 6<=nota<7.5\n",
        "\n",
        "Escreva (nota C)\n",
        "\n",
        "se 7.5<=nota<9.0\n",
        "\n",
        "Escreva (nota B)\n",
        "\n",
        "se 9.0<=nota<=10\n",
        "\n",
        "Escreva (nota A)\n",
        "\n"
      ],
      "metadata": {
        "id": "PwauJGKyE6Tp"
      }
    },
    {
      "cell_type": "markdown",
      "source": [
        "Questão 14\n",
        "\n",
        "Leia (altura)\n",
        "\n",
        "Leia (aresta)\n",
        "\n",
        "volume = 1/3* 3* aresta² *√3/2 *altura\n",
        "\n",
        "Escreva (O VOLUME DA PIRAMIDE E = volume METROS CUBICOS)\n",
        "\n",
        "\n",
        "\n"
      ],
      "metadata": {
        "id": "dAyQkuslGDu-"
      }
    },
    {
      "cell_type": "markdown",
      "source": [
        "Questão 15\n",
        "\n",
        "Leia (n)\n",
        "\n",
        "i = 1\n",
        "\n",
        "x = 2\n",
        "\n",
        "enquanto i<n y = x*x\n",
        "\n",
        "imprima (f\" {x}^2 = {y}\")\n",
        "\n",
        "x = x + 2\n",
        "\n",
        "i = i +1"
      ],
      "metadata": {
        "id": "bfGYU1doJ9V5"
      }
    },
    {
      "cell_type": "markdown",
      "source": [
        "Questão 16\n",
        "\n",
        "Leia (salario)\n",
        "\n",
        "se salario<=300\n",
        "\n",
        "salario2 = salario*3/2\n",
        "\n",
        "Escreva (SALARIO COM REAJUSTE = salario2)\n",
        "\n",
        "senao\n",
        "\n",
        "salario3 = salario *13/10\n",
        "\n",
        "Escreva (SALARIO COM REAJUSTE = salario3)"
      ],
      "metadata": {
        "id": "3nc7XsHIL3zJ"
      }
    },
    {
      "cell_type": "markdown",
      "source": [
        "Questão 17\n",
        "\n",
        "Leia (x,y)\n",
        "\n",
        "i = i +1\n",
        "\n",
        "x = x+2"
      ],
      "metadata": {
        "id": "Cn0n2It7MH7o"
      }
    },
    {
      "cell_type": "markdown",
      "source": [
        "Questão 18\n",
        "\n",
        "❌\n",
        "\n"
      ],
      "metadata": {
        "id": "xzeYG5RANz_X"
      }
    },
    {
      "cell_type": "markdown",
      "source": [
        "Questão 19\n",
        "\n",
        "❌"
      ],
      "metadata": {
        "id": "qXo5YqXmN2cF"
      }
    },
    {
      "cell_type": "markdown",
      "source": [
        "Questão 20\n",
        "\n",
        "Leia (horas)\n",
        "\n",
        "Leia (minutos)\n",
        "\n",
        "Leia (segundos)\n",
        "\n",
        "tseg = horas*3600+minutos *60+segundos\n",
        "\n",
        "Escreva (O TEMPO EM SEGUNDOS E = tseg)"
      ],
      "metadata": {
        "id": "ZGbmCDPGN4Wn"
      }
    }
  ]
}